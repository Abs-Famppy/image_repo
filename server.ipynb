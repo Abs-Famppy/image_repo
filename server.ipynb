{
  "nbformat": 4,
  "nbformat_minor": 0,
  "metadata": {
    "colab": {
      "provenance": [],
      "include_colab_link": true
    },
    "kernelspec": {
      "name": "python3",
      "display_name": "Python 3"
    },
    "language_info": {
      "name": "python"
    },
    "accelerator": "GPU",
    "gpuClass": "standard"
  },
  "cells": [
    {
      "cell_type": "markdown",
      "metadata": {
        "id": "view-in-github",
        "colab_type": "text"
      },
      "source": [
        "<a href=\"https://colab.research.google.com/github/Abs-Famppy/image_repo/blob/main/server.ipynb\" target=\"_parent\"><img src=\"https://colab.research.google.com/assets/colab-badge.svg\" alt=\"Open In Colab\"/></a>"
      ]
    },
    {
      "cell_type": "markdown",
      "source": [
        "# One-click Image Inpainting Server"
      ],
      "metadata": {
        "id": "tdcfJHRHRsVQ"
      }
    },
    {
      "cell_type": "code",
      "source": [
        "!pip install -q pyngrok"
      ],
      "metadata": {
        "id": "mpAdkMIiQZQV"
      },
      "execution_count": 1,
      "outputs": []
    },
    {
      "cell_type": "code",
      "source": [
        "import getpass\n",
        "from pyngrok import ngrok"
      ],
      "metadata": {
        "id": "vvLo35yUR0wu"
      },
      "execution_count": 2,
      "outputs": []
    },
    {
      "cell_type": "code",
      "execution_count": 3,
      "metadata": {
        "id": "e_AoDH3fQS5X",
        "outputId": "0af7a138-5dcc-4eea-b837-43c90f172f63",
        "colab": {
          "base_uri": "https://localhost:8080/"
        }
      },
      "outputs": [
        {
          "output_type": "stream",
          "name": "stdout",
          "text": [
            "fatal: destination path 'one-click-image-inpainting' already exists and is not an empty directory.\n",
            "/content/one-click-image-inpainting\n"
          ]
        }
      ],
      "source": [
        "!git clone https://github.com/yongsun-yoon/one-click-image-inpainting.git\n",
        "%cd one-click-image-inpainting"
      ]
    },
    {
      "cell_type": "code",
      "source": [
        "!pip install -r requirements.txt"
      ],
      "metadata": {
        "id": "25nocAX5SHQ6",
        "outputId": "8ca92299-5b55-42c1-baf4-e7c84e9c54a8",
        "colab": {
          "base_uri": "https://localhost:8080/"
        }
      },
      "execution_count": 4,
      "outputs": [
        {
          "output_type": "stream",
          "name": "stdout",
          "text": [
            "Requirement already satisfied: transformers in /usr/local/lib/python3.10/dist-packages (from -r requirements.txt (line 1)) (4.46.3)\n",
            "Requirement already satisfied: lama-cleaner==0.34.0 in /usr/local/lib/python3.10/dist-packages (from -r requirements.txt (line 2)) (0.34.0)\n",
            "Requirement already satisfied: streamlit in /usr/local/lib/python3.10/dist-packages (from -r requirements.txt (line 3)) (1.41.0)\n",
            "Requirement already satisfied: streamlit-image-coordinates in /usr/local/lib/python3.10/dist-packages (from -r requirements.txt (line 4)) (0.2.0)\n",
            "Requirement already satisfied: torch>=1.9.0 in /usr/local/lib/python3.10/dist-packages (from lama-cleaner==0.34.0->-r requirements.txt (line 2)) (2.5.1+cu121)\n",
            "Requirement already satisfied: opencv-python in /usr/local/lib/python3.10/dist-packages (from lama-cleaner==0.34.0->-r requirements.txt (line 2)) (4.10.0.84)\n",
            "Requirement already satisfied: flask-cors in /usr/local/lib/python3.10/dist-packages (from lama-cleaner==0.34.0->-r requirements.txt (line 2)) (5.0.0)\n",
            "Requirement already satisfied: flask==1.1.4 in /usr/local/lib/python3.10/dist-packages (from lama-cleaner==0.34.0->-r requirements.txt (line 2)) (1.1.4)\n",
            "Requirement already satisfied: flaskwebgui==0.3.5 in /usr/local/lib/python3.10/dist-packages (from lama-cleaner==0.34.0->-r requirements.txt (line 2)) (0.3.5)\n",
            "Requirement already satisfied: tqdm in /usr/local/lib/python3.10/dist-packages (from lama-cleaner==0.34.0->-r requirements.txt (line 2)) (4.66.6)\n",
            "Requirement already satisfied: pydantic in /usr/local/lib/python3.10/dist-packages (from lama-cleaner==0.34.0->-r requirements.txt (line 2)) (2.10.3)\n",
            "Requirement already satisfied: rich in /usr/local/lib/python3.10/dist-packages (from lama-cleaner==0.34.0->-r requirements.txt (line 2)) (13.9.4)\n",
            "Requirement already satisfied: loguru in /usr/local/lib/python3.10/dist-packages (from lama-cleaner==0.34.0->-r requirements.txt (line 2)) (0.7.3)\n",
            "Requirement already satisfied: pytest in /usr/local/lib/python3.10/dist-packages (from lama-cleaner==0.34.0->-r requirements.txt (line 2)) (8.3.4)\n",
            "Requirement already satisfied: yacs in /usr/local/lib/python3.10/dist-packages (from lama-cleaner==0.34.0->-r requirements.txt (line 2)) (0.1.8)\n",
            "Requirement already satisfied: markupsafe==2.0.1 in /usr/local/lib/python3.10/dist-packages (from lama-cleaner==0.34.0->-r requirements.txt (line 2)) (2.0.1)\n",
            "Requirement already satisfied: scikit-image==0.19.3 in /usr/local/lib/python3.10/dist-packages (from lama-cleaner==0.34.0->-r requirements.txt (line 2)) (0.19.3)\n",
            "Requirement already satisfied: diffusers==0.10.2 in /usr/local/lib/python3.10/dist-packages (from diffusers[torch]==0.10.2->lama-cleaner==0.34.0->-r requirements.txt (line 2)) (0.10.2)\n",
            "Requirement already satisfied: watchdog==2.2.1 in /usr/local/lib/python3.10/dist-packages (from lama-cleaner==0.34.0->-r requirements.txt (line 2)) (2.2.1)\n",
            "Requirement already satisfied: gradio in /usr/local/lib/python3.10/dist-packages (from lama-cleaner==0.34.0->-r requirements.txt (line 2)) (4.26.0)\n",
            "Requirement already satisfied: importlib-metadata in /usr/local/lib/python3.10/dist-packages (from diffusers==0.10.2->diffusers[torch]==0.10.2->lama-cleaner==0.34.0->-r requirements.txt (line 2)) (8.5.0)\n",
            "Requirement already satisfied: filelock in /usr/local/lib/python3.10/dist-packages (from diffusers==0.10.2->diffusers[torch]==0.10.2->lama-cleaner==0.34.0->-r requirements.txt (line 2)) (3.16.1)\n",
            "Requirement already satisfied: huggingface-hub>=0.10.0 in /usr/local/lib/python3.10/dist-packages (from diffusers==0.10.2->diffusers[torch]==0.10.2->lama-cleaner==0.34.0->-r requirements.txt (line 2)) (0.26.3)\n",
            "Requirement already satisfied: numpy in /usr/local/lib/python3.10/dist-packages (from diffusers==0.10.2->diffusers[torch]==0.10.2->lama-cleaner==0.34.0->-r requirements.txt (line 2)) (1.26.4)\n",
            "Requirement already satisfied: regex!=2019.12.17 in /usr/local/lib/python3.10/dist-packages (from diffusers==0.10.2->diffusers[torch]==0.10.2->lama-cleaner==0.34.0->-r requirements.txt (line 2)) (2024.9.11)\n",
            "Requirement already satisfied: requests in /usr/local/lib/python3.10/dist-packages (from diffusers==0.10.2->diffusers[torch]==0.10.2->lama-cleaner==0.34.0->-r requirements.txt (line 2)) (2.32.3)\n",
            "Requirement already satisfied: Pillow in /usr/local/lib/python3.10/dist-packages (from diffusers==0.10.2->diffusers[torch]==0.10.2->lama-cleaner==0.34.0->-r requirements.txt (line 2)) (10.4.0)\n",
            "Requirement already satisfied: accelerate>=0.11.0 in /usr/local/lib/python3.10/dist-packages (from diffusers[torch]==0.10.2->lama-cleaner==0.34.0->-r requirements.txt (line 2)) (1.1.1)\n",
            "Requirement already satisfied: Werkzeug<2.0,>=0.15 in /usr/local/lib/python3.10/dist-packages (from flask==1.1.4->lama-cleaner==0.34.0->-r requirements.txt (line 2)) (1.0.1)\n",
            "Requirement already satisfied: Jinja2<3.0,>=2.10.1 in /usr/local/lib/python3.10/dist-packages (from flask==1.1.4->lama-cleaner==0.34.0->-r requirements.txt (line 2)) (2.11.3)\n",
            "Requirement already satisfied: itsdangerous<2.0,>=0.24 in /usr/local/lib/python3.10/dist-packages (from flask==1.1.4->lama-cleaner==0.34.0->-r requirements.txt (line 2)) (1.1.0)\n",
            "Requirement already satisfied: click<8.0,>=5.1 in /usr/local/lib/python3.10/dist-packages (from flask==1.1.4->lama-cleaner==0.34.0->-r requirements.txt (line 2)) (7.1.2)\n",
            "Requirement already satisfied: whichcraft in /usr/local/lib/python3.10/dist-packages (from flaskwebgui==0.3.5->lama-cleaner==0.34.0->-r requirements.txt (line 2)) (0.6.1)\n",
            "Requirement already satisfied: scipy>=1.4.1 in /usr/local/lib/python3.10/dist-packages (from scikit-image==0.19.3->lama-cleaner==0.34.0->-r requirements.txt (line 2)) (1.13.1)\n",
            "Requirement already satisfied: networkx>=2.2 in /usr/local/lib/python3.10/dist-packages (from scikit-image==0.19.3->lama-cleaner==0.34.0->-r requirements.txt (line 2)) (3.4.2)\n",
            "Requirement already satisfied: imageio>=2.4.1 in /usr/local/lib/python3.10/dist-packages (from scikit-image==0.19.3->lama-cleaner==0.34.0->-r requirements.txt (line 2)) (2.36.1)\n",
            "Requirement already satisfied: tifffile>=2019.7.26 in /usr/local/lib/python3.10/dist-packages (from scikit-image==0.19.3->lama-cleaner==0.34.0->-r requirements.txt (line 2)) (2024.9.20)\n",
            "Requirement already satisfied: PyWavelets>=1.1.1 in /usr/local/lib/python3.10/dist-packages (from scikit-image==0.19.3->lama-cleaner==0.34.0->-r requirements.txt (line 2)) (1.8.0)\n",
            "Requirement already satisfied: packaging>=20.0 in /usr/local/lib/python3.10/dist-packages (from scikit-image==0.19.3->lama-cleaner==0.34.0->-r requirements.txt (line 2)) (24.2)\n",
            "Requirement already satisfied: pyyaml>=5.1 in /usr/local/lib/python3.10/dist-packages (from transformers->-r requirements.txt (line 1)) (6.0.2)\n",
            "Requirement already satisfied: tokenizers<0.21,>=0.20 in /usr/local/lib/python3.10/dist-packages (from transformers->-r requirements.txt (line 1)) (0.20.3)\n",
            "Requirement already satisfied: safetensors>=0.4.1 in /usr/local/lib/python3.10/dist-packages (from transformers->-r requirements.txt (line 1)) (0.4.5)\n",
            "Requirement already satisfied: altair<6,>=4.0 in /usr/local/lib/python3.10/dist-packages (from streamlit->-r requirements.txt (line 3)) (4.2.2)\n",
            "Requirement already satisfied: blinker<2,>=1.0.0 in /usr/local/lib/python3.10/dist-packages (from streamlit->-r requirements.txt (line 3)) (1.9.0)\n",
            "Requirement already satisfied: cachetools<6,>=4.0 in /usr/local/lib/python3.10/dist-packages (from streamlit->-r requirements.txt (line 3)) (5.5.0)\n",
            "Requirement already satisfied: pandas<3,>=1.4.0 in /usr/local/lib/python3.10/dist-packages (from streamlit->-r requirements.txt (line 3)) (2.2.2)\n",
            "Requirement already satisfied: protobuf<6,>=3.20 in /usr/local/lib/python3.10/dist-packages (from streamlit->-r requirements.txt (line 3)) (4.25.5)\n",
            "Requirement already satisfied: pyarrow>=7.0 in /usr/local/lib/python3.10/dist-packages (from streamlit->-r requirements.txt (line 3)) (17.0.0)\n",
            "Requirement already satisfied: tenacity<10,>=8.1.0 in /usr/local/lib/python3.10/dist-packages (from streamlit->-r requirements.txt (line 3)) (9.0.0)\n",
            "Requirement already satisfied: toml<2,>=0.10.1 in /usr/local/lib/python3.10/dist-packages (from streamlit->-r requirements.txt (line 3)) (0.10.2)\n",
            "Requirement already satisfied: typing-extensions<5,>=4.3.0 in /usr/local/lib/python3.10/dist-packages (from streamlit->-r requirements.txt (line 3)) (4.12.2)\n",
            "Requirement already satisfied: gitpython!=3.1.19,<4,>=3.0.7 in /usr/local/lib/python3.10/dist-packages (from streamlit->-r requirements.txt (line 3)) (3.1.43)\n",
            "Requirement already satisfied: pydeck<1,>=0.8.0b4 in /usr/local/lib/python3.10/dist-packages (from streamlit->-r requirements.txt (line 3)) (0.9.1)\n",
            "Requirement already satisfied: tornado<7,>=6.0.3 in /usr/local/lib/python3.10/dist-packages (from streamlit->-r requirements.txt (line 3)) (6.3.3)\n",
            "Requirement already satisfied: entrypoints in /usr/local/lib/python3.10/dist-packages (from altair<6,>=4.0->streamlit->-r requirements.txt (line 3)) (0.4)\n",
            "Requirement already satisfied: jsonschema>=3.0 in /usr/local/lib/python3.10/dist-packages (from altair<6,>=4.0->streamlit->-r requirements.txt (line 3)) (4.23.0)\n",
            "Requirement already satisfied: toolz in /usr/local/lib/python3.10/dist-packages (from altair<6,>=4.0->streamlit->-r requirements.txt (line 3)) (0.12.1)\n",
            "Requirement already satisfied: gitdb<5,>=4.0.1 in /usr/local/lib/python3.10/dist-packages (from gitpython!=3.1.19,<4,>=3.0.7->streamlit->-r requirements.txt (line 3)) (4.0.11)\n",
            "Requirement already satisfied: fsspec>=2023.5.0 in /usr/local/lib/python3.10/dist-packages (from huggingface-hub>=0.10.0->diffusers==0.10.2->diffusers[torch]==0.10.2->lama-cleaner==0.34.0->-r requirements.txt (line 2)) (2024.10.0)\n",
            "Requirement already satisfied: python-dateutil>=2.8.2 in /usr/local/lib/python3.10/dist-packages (from pandas<3,>=1.4.0->streamlit->-r requirements.txt (line 3)) (2.8.2)\n",
            "Requirement already satisfied: pytz>=2020.1 in /usr/local/lib/python3.10/dist-packages (from pandas<3,>=1.4.0->streamlit->-r requirements.txt (line 3)) (2024.2)\n",
            "Requirement already satisfied: tzdata>=2022.7 in /usr/local/lib/python3.10/dist-packages (from pandas<3,>=1.4.0->streamlit->-r requirements.txt (line 3)) (2024.2)\n",
            "Requirement already satisfied: charset-normalizer<4,>=2 in /usr/local/lib/python3.10/dist-packages (from requests->diffusers==0.10.2->diffusers[torch]==0.10.2->lama-cleaner==0.34.0->-r requirements.txt (line 2)) (3.4.0)\n",
            "Requirement already satisfied: idna<4,>=2.5 in /usr/local/lib/python3.10/dist-packages (from requests->diffusers==0.10.2->diffusers[torch]==0.10.2->lama-cleaner==0.34.0->-r requirements.txt (line 2)) (3.10)\n",
            "Requirement already satisfied: urllib3<3,>=1.21.1 in /usr/local/lib/python3.10/dist-packages (from requests->diffusers==0.10.2->diffusers[torch]==0.10.2->lama-cleaner==0.34.0->-r requirements.txt (line 2)) (2.2.3)\n",
            "Requirement already satisfied: certifi>=2017.4.17 in /usr/local/lib/python3.10/dist-packages (from requests->diffusers==0.10.2->diffusers[torch]==0.10.2->lama-cleaner==0.34.0->-r requirements.txt (line 2)) (2024.8.30)\n",
            "Requirement already satisfied: markdown-it-py>=2.2.0 in /usr/local/lib/python3.10/dist-packages (from rich->lama-cleaner==0.34.0->-r requirements.txt (line 2)) (3.0.0)\n",
            "Requirement already satisfied: pygments<3.0.0,>=2.13.0 in /usr/local/lib/python3.10/dist-packages (from rich->lama-cleaner==0.34.0->-r requirements.txt (line 2)) (2.18.0)\n",
            "Requirement already satisfied: sympy==1.13.1 in /usr/local/lib/python3.10/dist-packages (from torch>=1.9.0->lama-cleaner==0.34.0->-r requirements.txt (line 2)) (1.13.1)\n",
            "Requirement already satisfied: mpmath<1.4,>=1.1.0 in /usr/local/lib/python3.10/dist-packages (from sympy==1.13.1->torch>=1.9.0->lama-cleaner==0.34.0->-r requirements.txt (line 2)) (1.3.0)\n",
            "Requirement already satisfied: aiofiles<24.0,>=22.0 in /usr/local/lib/python3.10/dist-packages (from gradio->lama-cleaner==0.34.0->-r requirements.txt (line 2)) (23.2.1)\n",
            "Requirement already satisfied: fastapi in /usr/local/lib/python3.10/dist-packages (from gradio->lama-cleaner==0.34.0->-r requirements.txt (line 2)) (0.115.6)\n",
            "Requirement already satisfied: ffmpy in /usr/local/lib/python3.10/dist-packages (from gradio->lama-cleaner==0.34.0->-r requirements.txt (line 2)) (0.4.0)\n",
            "Requirement already satisfied: gradio-client==0.15.1 in /usr/local/lib/python3.10/dist-packages (from gradio->lama-cleaner==0.34.0->-r requirements.txt (line 2)) (0.15.1)\n",
            "Requirement already satisfied: httpx>=0.24.1 in /usr/local/lib/python3.10/dist-packages (from gradio->lama-cleaner==0.34.0->-r requirements.txt (line 2)) (0.28.0)\n",
            "Requirement already satisfied: importlib-resources<7.0,>=1.3 in /usr/local/lib/python3.10/dist-packages (from gradio->lama-cleaner==0.34.0->-r requirements.txt (line 2)) (6.4.5)\n",
            "Requirement already satisfied: matplotlib~=3.0 in /usr/local/lib/python3.10/dist-packages (from gradio->lama-cleaner==0.34.0->-r requirements.txt (line 2)) (3.8.0)\n",
            "Requirement already satisfied: orjson~=3.0 in /usr/local/lib/python3.10/dist-packages (from gradio->lama-cleaner==0.34.0->-r requirements.txt (line 2)) (3.10.12)\n",
            "Requirement already satisfied: pydub in /usr/local/lib/python3.10/dist-packages (from gradio->lama-cleaner==0.34.0->-r requirements.txt (line 2)) (0.25.1)\n",
            "Requirement already satisfied: python-multipart>=0.0.9 in /usr/local/lib/python3.10/dist-packages (from gradio->lama-cleaner==0.34.0->-r requirements.txt (line 2)) (0.0.19)\n",
            "Requirement already satisfied: ruff>=0.2.2 in /usr/local/lib/python3.10/dist-packages (from gradio->lama-cleaner==0.34.0->-r requirements.txt (line 2)) (0.8.2)\n",
            "Requirement already satisfied: semantic-version~=2.0 in /usr/local/lib/python3.10/dist-packages (from gradio->lama-cleaner==0.34.0->-r requirements.txt (line 2)) (2.10.0)\n",
            "Requirement already satisfied: tomlkit==0.12.0 in /usr/local/lib/python3.10/dist-packages (from gradio->lama-cleaner==0.34.0->-r requirements.txt (line 2)) (0.12.0)\n",
            "Requirement already satisfied: typer<1.0,>=0.9 in /usr/local/lib/python3.10/dist-packages (from typer[all]<1.0,>=0.9; sys_platform != \"emscripten\"->gradio->lama-cleaner==0.34.0->-r requirements.txt (line 2)) (0.10.0)\n",
            "Requirement already satisfied: uvicorn>=0.14.0 in /usr/local/lib/python3.10/dist-packages (from gradio->lama-cleaner==0.34.0->-r requirements.txt (line 2)) (0.32.1)\n",
            "Requirement already satisfied: websockets<12.0,>=10.0 in /usr/local/lib/python3.10/dist-packages (from gradio-client==0.15.1->gradio->lama-cleaner==0.34.0->-r requirements.txt (line 2)) (11.0.3)\n",
            "Requirement already satisfied: annotated-types>=0.6.0 in /usr/local/lib/python3.10/dist-packages (from pydantic->lama-cleaner==0.34.0->-r requirements.txt (line 2)) (0.7.0)\n",
            "Requirement already satisfied: pydantic-core==2.27.1 in /usr/local/lib/python3.10/dist-packages (from pydantic->lama-cleaner==0.34.0->-r requirements.txt (line 2)) (2.27.1)\n",
            "Requirement already satisfied: exceptiongroup>=1.0.0rc8 in /usr/local/lib/python3.10/dist-packages (from pytest->lama-cleaner==0.34.0->-r requirements.txt (line 2)) (1.2.2)\n",
            "Requirement already satisfied: iniconfig in /usr/local/lib/python3.10/dist-packages (from pytest->lama-cleaner==0.34.0->-r requirements.txt (line 2)) (2.0.0)\n",
            "Requirement already satisfied: pluggy<2,>=1.5 in /usr/local/lib/python3.10/dist-packages (from pytest->lama-cleaner==0.34.0->-r requirements.txt (line 2)) (1.5.0)\n",
            "Requirement already satisfied: tomli>=1 in /usr/local/lib/python3.10/dist-packages (from pytest->lama-cleaner==0.34.0->-r requirements.txt (line 2)) (2.2.1)\n",
            "Requirement already satisfied: psutil in /usr/local/lib/python3.10/dist-packages (from accelerate>=0.11.0->diffusers[torch]==0.10.2->lama-cleaner==0.34.0->-r requirements.txt (line 2)) (5.9.5)\n",
            "Requirement already satisfied: smmap<6,>=3.0.1 in /usr/local/lib/python3.10/dist-packages (from gitdb<5,>=4.0.1->gitpython!=3.1.19,<4,>=3.0.7->streamlit->-r requirements.txt (line 3)) (5.0.1)\n",
            "Requirement already satisfied: anyio in /usr/local/lib/python3.10/dist-packages (from httpx>=0.24.1->gradio->lama-cleaner==0.34.0->-r requirements.txt (line 2)) (3.7.1)\n",
            "Requirement already satisfied: httpcore==1.* in /usr/local/lib/python3.10/dist-packages (from httpx>=0.24.1->gradio->lama-cleaner==0.34.0->-r requirements.txt (line 2)) (1.0.7)\n",
            "Requirement already satisfied: h11<0.15,>=0.13 in /usr/local/lib/python3.10/dist-packages (from httpcore==1.*->httpx>=0.24.1->gradio->lama-cleaner==0.34.0->-r requirements.txt (line 2)) (0.14.0)\n",
            "Requirement already satisfied: attrs>=22.2.0 in /usr/local/lib/python3.10/dist-packages (from jsonschema>=3.0->altair<6,>=4.0->streamlit->-r requirements.txt (line 3)) (24.2.0)\n",
            "Requirement already satisfied: jsonschema-specifications>=2023.03.6 in /usr/local/lib/python3.10/dist-packages (from jsonschema>=3.0->altair<6,>=4.0->streamlit->-r requirements.txt (line 3)) (2024.10.1)\n",
            "Requirement already satisfied: referencing>=0.28.4 in /usr/local/lib/python3.10/dist-packages (from jsonschema>=3.0->altair<6,>=4.0->streamlit->-r requirements.txt (line 3)) (0.35.1)\n",
            "Requirement already satisfied: rpds-py>=0.7.1 in /usr/local/lib/python3.10/dist-packages (from jsonschema>=3.0->altair<6,>=4.0->streamlit->-r requirements.txt (line 3)) (0.22.3)\n",
            "Requirement already satisfied: mdurl~=0.1 in /usr/local/lib/python3.10/dist-packages (from markdown-it-py>=2.2.0->rich->lama-cleaner==0.34.0->-r requirements.txt (line 2)) (0.1.2)\n",
            "Requirement already satisfied: contourpy>=1.0.1 in /usr/local/lib/python3.10/dist-packages (from matplotlib~=3.0->gradio->lama-cleaner==0.34.0->-r requirements.txt (line 2)) (1.3.1)\n",
            "Requirement already satisfied: cycler>=0.10 in /usr/local/lib/python3.10/dist-packages (from matplotlib~=3.0->gradio->lama-cleaner==0.34.0->-r requirements.txt (line 2)) (0.12.1)\n",
            "Requirement already satisfied: fonttools>=4.22.0 in /usr/local/lib/python3.10/dist-packages (from matplotlib~=3.0->gradio->lama-cleaner==0.34.0->-r requirements.txt (line 2)) (4.55.1)\n",
            "Requirement already satisfied: kiwisolver>=1.0.1 in /usr/local/lib/python3.10/dist-packages (from matplotlib~=3.0->gradio->lama-cleaner==0.34.0->-r requirements.txt (line 2)) (1.4.7)\n",
            "Requirement already satisfied: pyparsing>=2.3.1 in /usr/local/lib/python3.10/dist-packages (from matplotlib~=3.0->gradio->lama-cleaner==0.34.0->-r requirements.txt (line 2)) (3.2.0)\n",
            "Requirement already satisfied: six>=1.5 in /usr/local/lib/python3.10/dist-packages (from python-dateutil>=2.8.2->pandas<3,>=1.4.0->streamlit->-r requirements.txt (line 3)) (1.16.0)\n",
            "Requirement already satisfied: colorama<0.5.0,>=0.4.3 in /usr/local/lib/python3.10/dist-packages (from typer[all]<1.0,>=0.9; sys_platform != \"emscripten\"->gradio->lama-cleaner==0.34.0->-r requirements.txt (line 2)) (0.4.6)\n",
            "Requirement already satisfied: shellingham<2.0.0,>=1.3.0 in /usr/local/lib/python3.10/dist-packages (from typer[all]<1.0,>=0.9; sys_platform != \"emscripten\"->gradio->lama-cleaner==0.34.0->-r requirements.txt (line 2)) (1.5.4)\n",
            "Requirement already satisfied: starlette<0.42.0,>=0.40.0 in /usr/local/lib/python3.10/dist-packages (from fastapi->gradio->lama-cleaner==0.34.0->-r requirements.txt (line 2)) (0.41.3)\n",
            "Requirement already satisfied: zipp>=3.20 in /usr/local/lib/python3.10/dist-packages (from importlib-metadata->diffusers==0.10.2->diffusers[torch]==0.10.2->lama-cleaner==0.34.0->-r requirements.txt (line 2)) (3.21.0)\n",
            "Requirement already satisfied: sniffio>=1.1 in /usr/local/lib/python3.10/dist-packages (from anyio->httpx>=0.24.1->gradio->lama-cleaner==0.34.0->-r requirements.txt (line 2)) (1.3.1)\n"
          ]
        }
      ]
    },
    {
      "cell_type": "code",
      "source": [
        "authtoken = getpass.getpass('Write ngrok authtoken: ')\n",
        "!ngrok authtoken $authtoken"
      ],
      "metadata": {
        "id": "aDXWseg8QVs_"
      },
      "execution_count": null,
      "outputs": []
    },
    {
      "cell_type": "code",
      "source": [
        "!nohup streamlit run app.py -- --device cuda:0 &"
      ],
      "metadata": {
        "id": "qRFqodtwQ9NZ"
      },
      "execution_count": null,
      "outputs": []
    },
    {
      "cell_type": "code",
      "source": [
        "url = ngrok.connect(addr='8501')\n",
        "url"
      ],
      "metadata": {
        "id": "mxl93OWGRHW5"
      },
      "execution_count": null,
      "outputs": []
    },
    {
      "cell_type": "code",
      "source": [
        "!ps"
      ],
      "metadata": {
        "id": "VqBZZSLjRIM3"
      },
      "execution_count": null,
      "outputs": []
    },
    {
      "cell_type": "code",
      "source": [
        "!kill 1405"
      ],
      "metadata": {
        "id": "IDZDAVjuSMUB"
      },
      "execution_count": null,
      "outputs": []
    },
    {
      "cell_type": "code",
      "source": [
        "ngrok.kill()"
      ],
      "metadata": {
        "id": "0QIabFSzSOKq"
      },
      "execution_count": null,
      "outputs": []
    }
  ]
}